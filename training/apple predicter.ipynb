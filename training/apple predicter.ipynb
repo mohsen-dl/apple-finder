{
 "cells": [
  {
   "cell_type": "code",
   "execution_count": 1,
   "id": "cc37ec59",
   "metadata": {},
   "outputs": [
    {
     "name": "stderr",
     "output_type": "stream",
     "text": [
      "2023-01-13 06:21:48.450241: W tensorflow/compiler/xla/stream_executor/platform/default/dso_loader.cc:64] Could not load dynamic library 'libcudart.so.11.0'; dlerror: libcudart.so.11.0: cannot open shared object file: No such file or directory\n",
      "2023-01-13 06:21:48.450267: I tensorflow/compiler/xla/stream_executor/cuda/cudart_stub.cc:29] Ignore above cudart dlerror if you do not have a GPU set up on your machine.\n",
      "2023-01-13 06:21:49.497669: W tensorflow/compiler/xla/stream_executor/platform/default/dso_loader.cc:64] Could not load dynamic library 'libnvinfer.so.7'; dlerror: libnvinfer.so.7: cannot open shared object file: No such file or directory\n",
      "2023-01-13 06:21:49.497759: W tensorflow/compiler/xla/stream_executor/platform/default/dso_loader.cc:64] Could not load dynamic library 'libnvinfer_plugin.so.7'; dlerror: libnvinfer_plugin.so.7: cannot open shared object file: No such file or directory\n",
      "2023-01-13 06:21:49.497769: W tensorflow/compiler/tf2tensorrt/utils/py_utils.cc:38] TF-TRT Warning: Cannot dlopen some TensorRT libraries. If you would like to use Nvidia GPU with TensorRT, please make sure the missing libraries mentioned above are installed properly.\n"
     ]
    }
   ],
   "source": [
    "from keras.models import model_from_json\n",
    "from pathlib import Path\n",
    "from keras.utils import load_img\n",
    "from keras.preprocessing import image\n",
    "import numpy as np"
   ]
  },
  {
   "cell_type": "code",
   "execution_count": 2,
   "id": "5e75f837",
   "metadata": {},
   "outputs": [],
   "source": [
    "class_labels = ['Apple Braeburn',\n",
    " 'Apple Crimson Snow',\n",
    " 'Apple Golden 1',\n",
    " 'Apple Golden 2',\n",
    " 'Apple Golden 3',\n",
    " 'Apple Granny Smith',\n",
    " 'Apple Pink Lady',\n",
    " 'Apple Red 1',\n",
    " 'Apple Red 2',\n",
    " 'Apple Red 3',\n",
    " 'Apple Red Delicious',\n",
    " 'Apple Red Yellow 1',\n",
    " 'Apple Red Yellow 2',\n",
    " 'Apricot',\n",
    " 'Avocado',\n",
    " 'Avocado ripe',\n",
    " 'Banana',\n",
    " 'Banana Lady Finger',\n",
    " 'Banana Red',\n",
    " 'Beetroot',\n",
    " 'Blueberry',\n",
    " 'Cactus fruit',\n",
    " 'Cantaloupe 1',\n",
    " 'Cantaloupe 2',\n",
    " 'Carambula',\n",
    " 'Cauliflower',\n",
    " 'Cherry 1',\n",
    " 'Cherry 2',\n",
    " 'Cherry Rainier',\n",
    " 'Cherry Wax Black',\n",
    " 'Cherry Wax Red',\n",
    " 'Cherry Wax Yellow',\n",
    " 'Chestnut',\n",
    " 'Clementine',\n",
    " 'Cocos',\n",
    " 'Corn',\n",
    " 'Corn Husk',\n",
    " 'Cucumber Ripe',\n",
    " 'Cucumber Ripe 2',\n",
    " 'Dates',\n",
    " 'Eggplant',\n",
    " 'Fig',\n",
    " 'Ginger Root',\n",
    " 'Granadilla',\n",
    " 'Grape Blue',\n",
    " 'Grape Pink',\n",
    " 'Grape White',\n",
    " 'Grape White 2',\n",
    " 'Grape White 3',\n",
    " 'Grape White 4',\n",
    " 'Grapefruit Pink',\n",
    " 'Grapefruit White',\n",
    " 'Guava',\n",
    " 'Hazelnut',\n",
    " 'Huckleberry',\n",
    " 'Kaki',\n",
    " 'Kiwi',\n",
    " 'Kohlrabi',\n",
    " 'Kumquats',\n",
    " 'Lemon',\n",
    " 'Lemon Meyer',\n",
    " 'Limes',\n",
    " 'Lychee',\n",
    " 'Mandarine',\n",
    " 'Mango',\n",
    " 'Mango Red',\n",
    " 'Mangostan',\n",
    " 'Maracuja',\n",
    " 'Melon Piel de Sapo',\n",
    " 'Mulberry',\n",
    " 'Nectarine',\n",
    " 'Nectarine Flat',\n",
    " 'Nut Forest',\n",
    " 'Nut Pecan',\n",
    " 'Onion Red',\n",
    " 'Onion Red Peeled',\n",
    " 'Onion White',\n",
    " 'Orange',\n",
    " 'Papaya',\n",
    " 'Passion Fruit',\n",
    " 'Peach',\n",
    " 'Peach 2',\n",
    " 'Peach Flat',\n",
    " 'Pear',\n",
    " 'Pear 2',\n",
    " 'Pear Abate',\n",
    " 'Pear Forelle',\n",
    " 'Pear Kaiser',\n",
    " 'Pear Monster',\n",
    " 'Pear Red',\n",
    " 'Pear Stone',\n",
    " 'Pear Williams',\n",
    " 'Pepino',\n",
    " 'Pepper Green',\n",
    " 'Pepper Orange',\n",
    " 'Pepper Red',\n",
    " 'Pepper Yellow',\n",
    " 'Physalis',\n",
    " 'Physalis with Husk',\n",
    " 'Pineapple',\n",
    " 'Pineapple Mini',\n",
    " 'Pitahaya Red',\n",
    " 'Plum',\n",
    " 'Plum 2',\n",
    " 'Plum 3',\n",
    " 'Pomegranate',\n",
    " 'Pomelo Sweetie',\n",
    " 'Potato Red',\n",
    " 'Potato Red Washed',\n",
    " 'Potato Sweet',\n",
    " 'Potato White',\n",
    " 'Quince',\n",
    " 'Rambutan',\n",
    " 'Raspberry',\n",
    " 'Redcurrant',\n",
    " 'Salak',\n",
    " 'Strawberry',\n",
    " 'Strawberry Wedge',\n",
    " 'Tamarillo',\n",
    " 'Tangelo',\n",
    " 'Tomato 1',\n",
    " 'Tomato 2',\n",
    " 'Tomato 3',\n",
    " 'Tomato 4',\n",
    " 'Tomato Cherry Red',\n",
    " 'Tomato Heart',\n",
    " 'Tomato Maroon',\n",
    " 'Tomato Yellow',\n",
    " 'Tomato not Ripened',\n",
    " 'Walnut',\n",
    " 'Watermelon']"
   ]
  },
  {
   "cell_type": "code",
   "execution_count": 3,
   "id": "fadcdaa5",
   "metadata": {},
   "outputs": [],
   "source": [
    "f = Path('kaggle_model_structure_2.json')\n",
    "model_structure = f.read_text()"
   ]
  },
  {
   "cell_type": "code",
   "execution_count": 4,
   "id": "3412f21b",
   "metadata": {},
   "outputs": [
    {
     "name": "stdout",
     "output_type": "stream",
     "text": [
      "WARNING:tensorflow:Using a while_loop for converting RngReadAndSkip cause there is no registered converter for this op.\n",
      "WARNING:tensorflow:Using a while_loop for converting Bitcast cause there is no registered converter for this op.\n"
     ]
    },
    {
     "name": "stderr",
     "output_type": "stream",
     "text": [
      "2023-01-13 06:21:50.548405: I tensorflow/compiler/xla/stream_executor/cuda/cuda_gpu_executor.cc:981] successful NUMA node read from SysFS had negative value (-1), but there must be at least one NUMA node, so returning NUMA node zero\n",
      "2023-01-13 06:21:50.549107: W tensorflow/compiler/xla/stream_executor/platform/default/dso_loader.cc:64] Could not load dynamic library 'libcudart.so.11.0'; dlerror: libcudart.so.11.0: cannot open shared object file: No such file or directory\n",
      "2023-01-13 06:21:50.549208: W tensorflow/compiler/xla/stream_executor/platform/default/dso_loader.cc:64] Could not load dynamic library 'libcublas.so.11'; dlerror: libcublas.so.11: cannot open shared object file: No such file or directory\n",
      "2023-01-13 06:21:50.549302: W tensorflow/compiler/xla/stream_executor/platform/default/dso_loader.cc:64] Could not load dynamic library 'libcublasLt.so.11'; dlerror: libcublasLt.so.11: cannot open shared object file: No such file or directory\n",
      "2023-01-13 06:21:50.549396: W tensorflow/compiler/xla/stream_executor/platform/default/dso_loader.cc:64] Could not load dynamic library 'libcufft.so.10'; dlerror: libcufft.so.10: cannot open shared object file: No such file or directory\n",
      "2023-01-13 06:21:50.549486: W tensorflow/compiler/xla/stream_executor/platform/default/dso_loader.cc:64] Could not load dynamic library 'libcurand.so.10'; dlerror: libcurand.so.10: cannot open shared object file: No such file or directory\n",
      "2023-01-13 06:21:50.549575: W tensorflow/compiler/xla/stream_executor/platform/default/dso_loader.cc:64] Could not load dynamic library 'libcusolver.so.11'; dlerror: libcusolver.so.11: cannot open shared object file: No such file or directory\n",
      "2023-01-13 06:21:50.549665: W tensorflow/compiler/xla/stream_executor/platform/default/dso_loader.cc:64] Could not load dynamic library 'libcusparse.so.11'; dlerror: libcusparse.so.11: cannot open shared object file: No such file or directory\n",
      "2023-01-13 06:21:50.549754: W tensorflow/compiler/xla/stream_executor/platform/default/dso_loader.cc:64] Could not load dynamic library 'libcudnn.so.8'; dlerror: libcudnn.so.8: cannot open shared object file: No such file or directory\n",
      "2023-01-13 06:21:50.549771: W tensorflow/core/common_runtime/gpu/gpu_device.cc:1934] Cannot dlopen some GPU libraries. Please make sure the missing libraries mentioned above are installed properly if you would like to use GPU. Follow the guide at https://www.tensorflow.org/install/gpu for how to download and setup the required libraries for your platform.\n",
      "Skipping registering GPU devices...\n"
     ]
    },
    {
     "name": "stdout",
     "output_type": "stream",
     "text": [
      "WARNING:tensorflow:Using a while_loop for converting Bitcast cause there is no registered converter for this op.\n",
      "WARNING:tensorflow:Using a while_loop for converting StatelessRandomUniformV2 cause there is no registered converter for this op.\n",
      "WARNING:tensorflow:Using a while_loop for converting ImageProjectiveTransformV3 cause there is no registered converter for this op.\n",
      "WARNING:tensorflow:Using a while_loop for converting RngReadAndSkip cause there is no registered converter for this op.\n",
      "WARNING:tensorflow:Using a while_loop for converting Bitcast cause there is no registered converter for this op.\n",
      "WARNING:tensorflow:Using a while_loop for converting Bitcast cause there is no registered converter for this op.\n",
      "WARNING:tensorflow:Using a while_loop for converting StatelessRandomUniformV2 cause there is no registered converter for this op.\n",
      "WARNING:tensorflow:Using a while_loop for converting ImageProjectiveTransformV3 cause there is no registered converter for this op.\n"
     ]
    }
   ],
   "source": [
    "model = model_from_json(model_structure)"
   ]
  },
  {
   "cell_type": "code",
   "execution_count": 50,
   "id": "02cb4859",
   "metadata": {},
   "outputs": [],
   "source": [
    "model.load_weights('kaggle_model_weights_2.h5')"
   ]
  },
  {
   "cell_type": "code",
   "execution_count": 51,
   "id": "73376828",
   "metadata": {},
   "outputs": [],
   "source": [
    "img = load_img('r_283_100.jpg', target_size=(100,100))"
   ]
  },
  {
   "cell_type": "code",
   "execution_count": 52,
   "id": "daef077d",
   "metadata": {},
   "outputs": [],
   "source": [
    "image_to_test = image.image_utils.img_to_array(img)"
   ]
  },
  {
   "cell_type": "code",
   "execution_count": 53,
   "id": "77bbb704",
   "metadata": {},
   "outputs": [],
   "source": [
    "list_of_images = np.expand_dims(image_to_test, axis=0)"
   ]
  },
  {
   "cell_type": "code",
   "execution_count": 54,
   "id": "975f1cf3",
   "metadata": {},
   "outputs": [
    {
     "name": "stdout",
     "output_type": "stream",
     "text": [
      "1/1 [==============================] - 0s 26ms/step\n"
     ]
    }
   ],
   "source": [
    "results = model.predict(list_of_images)"
   ]
  },
  {
   "cell_type": "code",
   "execution_count": 55,
   "id": "05f942be",
   "metadata": {
    "scrolled": true
   },
   "outputs": [
    {
     "data": {
      "text/plain": [
       "array([7.29761960e-04, 7.70521125e-13, 1.14770269e-24, 2.09563634e-27,\n",
       "       5.03856060e-25, 2.69858969e-28, 1.15346140e-03, 1.95195615e-01,\n",
       "       1.16000301e-03, 2.71357979e-12, 1.58608571e-21, 1.33613154e-04,\n",
       "       4.27973260e-23, 5.47836719e-14, 3.43130329e-29, 5.80854633e-29,\n",
       "       4.65472479e-30, 1.51977625e-22, 7.40013679e-22, 5.02950413e-37,\n",
       "       1.10938337e-23, 4.60793928e-24, 1.08792566e-31, 4.90518412e-23,\n",
       "       1.86286735e-19, 2.62924089e-33, 5.92905169e-30, 1.29169174e-17,\n",
       "       2.30494804e-17, 4.57394187e-26, 2.85217974e-22, 5.03111469e-30,\n",
       "       3.79891525e-23, 1.72342682e-22, 2.60451090e-28, 5.69000039e-32,\n",
       "       2.74387388e-32, 3.96725709e-20, 5.06728854e-22, 3.36253157e-32,\n",
       "       1.76836095e-28, 1.58912632e-28, 0.00000000e+00, 1.15690268e-09,\n",
       "       1.60357195e-19, 5.23469934e-10, 3.33584728e-29, 2.87336021e-26,\n",
       "       4.05024471e-35, 1.69049759e-31, 2.31024139e-22, 6.89057058e-26,\n",
       "       9.34247204e-33, 7.92880863e-29, 1.85067604e-28, 2.35747840e-15,\n",
       "       6.25703662e-19, 2.33570840e-30, 1.75118621e-24, 6.60595830e-24,\n",
       "       2.33902112e-26, 2.64482259e-26, 1.16497248e-15, 4.33239683e-22,\n",
       "       2.10847687e-32, 1.90613598e-18, 7.47523458e-23, 1.13772416e-25,\n",
       "       3.16433666e-35, 3.20223640e-27, 8.01626682e-01, 1.81124150e-07,\n",
       "       2.50538027e-23, 3.23815749e-14, 9.42432928e-19, 2.22343023e-32,\n",
       "       8.58338751e-08, 1.90257422e-20, 2.23126821e-21, 3.39705063e-29,\n",
       "       8.81351969e-09, 9.33459329e-34, 2.17542821e-13, 3.47321652e-24,\n",
       "       4.33775300e-23, 8.46768314e-21, 2.03057471e-24, 1.49319645e-24,\n",
       "       8.31006327e-33, 2.27700152e-08, 2.85988684e-34, 1.20522121e-16,\n",
       "       2.28621922e-15, 7.43444272e-26, 2.20947020e-14, 9.46095774e-20,\n",
       "       1.67364824e-23, 1.28850256e-32, 3.09382953e-36, 1.28945570e-26,\n",
       "       6.04690677e-25, 2.08578260e-31, 9.70096152e-27, 1.34568438e-26,\n",
       "       4.48669126e-25, 5.98323652e-07, 1.59544015e-32, 5.17586050e-34,\n",
       "       2.14574373e-18, 1.07600372e-35, 1.48675902e-36, 4.91379304e-33,\n",
       "       3.73411556e-31, 1.41555503e-30, 4.29924953e-25, 7.13258234e-33,\n",
       "       1.03435412e-17, 9.38972399e-29, 2.04162887e-30, 2.15065413e-24,\n",
       "       1.99236311e-17, 1.61029576e-20, 3.23305896e-11, 1.16452712e-17,\n",
       "       3.82972410e-20, 8.09677884e-18, 2.60376785e-19, 9.78586765e-24,\n",
       "       1.00502126e-28, 6.88050722e-27, 2.95690961e-28], dtype=float32)"
      ]
     },
     "execution_count": 55,
     "metadata": {},
     "output_type": "execute_result"
    }
   ],
   "source": [
    "single_result = results[0]\n",
    "single_result"
   ]
  },
  {
   "cell_type": "code",
   "execution_count": 56,
   "id": "35efc72f",
   "metadata": {},
   "outputs": [],
   "source": [
    "most_likely_class_index = int(np.argmax(single_result))\n",
    "class_likelyhood = single_result[most_likely_class_index]"
   ]
  },
  {
   "cell_type": "code",
   "execution_count": 57,
   "id": "a0b0e2bc",
   "metadata": {},
   "outputs": [],
   "source": [
    "class_label = class_labels[most_likely_class_index]"
   ]
  },
  {
   "cell_type": "code",
   "execution_count": 58,
   "id": "e1a6e842",
   "metadata": {},
   "outputs": [
    {
     "name": "stdout",
     "output_type": "stream",
     "text": [
      "this image is a Nectarine - likelyhood: 0.801627\n"
     ]
    }
   ],
   "source": [
    "print('this image is a {} - likelyhood: {:2f}'.format(class_label, class_likelyhood))\n"
   ]
  }
 ],
 "metadata": {
  "kernelspec": {
   "display_name": "Python 3 (ipykernel)",
   "language": "python",
   "name": "python3"
  },
  "language_info": {
   "codemirror_mode": {
    "name": "ipython",
    "version": 3
   },
   "file_extension": ".py",
   "mimetype": "text/x-python",
   "name": "python",
   "nbconvert_exporter": "python",
   "pygments_lexer": "ipython3",
   "version": "3.10.6"
  }
 },
 "nbformat": 4,
 "nbformat_minor": 5
}
